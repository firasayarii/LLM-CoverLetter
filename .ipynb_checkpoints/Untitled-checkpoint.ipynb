{
 "cells": [
  {
   "cell_type": "markdown",
   "id": "98e5ea5d",
   "metadata": {},
   "source": [
    "### Install langchain-groq"
   ]
  },
  {
   "cell_type": "code",
   "execution_count": null,
   "id": "1e5df8c8",
   "metadata": {},
   "outputs": [],
   "source": [
    "!pip install -qU langchain-groq"
   ]
  },
  {
   "cell_type": "code",
   "execution_count": 23,
   "id": "122d7518",
   "metadata": {},
   "outputs": [],
   "source": [
    "Token='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'"
   ]
  },
  {
   "cell_type": "code",
   "execution_count": 24,
   "id": "85e2eb64",
   "metadata": {},
   "outputs": [
    {
     "name": "stdout",
     "output_type": "stream",
     "text": [
      "I'd be happy to help you with a motivation letter for a job proposal. Please provide me with the following details:\n",
      "\n",
      "1. The job title and position you're applying for\n",
      "2. The company name (if applicable)\n",
      "3. A brief description of the job's main responsibilities and requirements\n",
      "4. Your relevant skills, qualifications, and experiences that align with the job\n",
      "5. Any specific accomplishments or achievements you'd like to highlight\n",
      "6. The tone you'd like to convey in the letter (e.g. formal, enthusiastic, professional)\n",
      "\n",
      "Additionally, it would be helpful to know what specific aspects of the job you're most excited about and what you hope to achieve in the role.\n",
      "\n",
      "Once I have this information, I'll help you craft a compelling motivation letter that showcases your skills, passion, and fit for the job.\n",
      "\n",
      "Please go ahead and provide the details, and I'll get started on your motivation letter.\n"
     ]
    }
   ],
   "source": [
    "from langchain_groq import ChatGroq\n",
    "\n",
    "llm = ChatGroq(\n",
    "    model=\"llama-3.1-70b-versatile\",\n",
    "    temperature=0,\n",
    "    groq_api_key=Token,\n",
    "    # other params...\n",
    ")\n",
    "response=llm.invoke('can you provide for me a motivation letter for a job proposal if i give you the mission?')\n",
    "print(response.content)"
   ]
  },
  {
   "cell_type": "markdown",
   "id": "6ba740d7",
   "metadata": {},
   "source": [
    "### Web scrapping for job requirements :"
   ]
  },
  {
   "cell_type": "code",
   "execution_count": 25,
   "id": "b08933d6",
   "metadata": {
    "scrolled": false
   },
   "outputs": [
    {
     "name": "stdout",
     "output_type": "stream",
     "text": [
      "Stage Data Science (H/F) - 5/6 mois - QuickSign - Stage à ParisTrouver un jobTrouver une entrepriseMédiaCandidaturesPropositionsAccueilTrouver un jobTrouver une entrepriseMédiaRetourQuickSignStage Data Science (H/F) - 5/6 moisStage(5 à 6 mois)ParisSalaire : 1K à 1,3K €Début : 01 septembre 2024Télétravail occasionnelExpérience : < 6 moisÉducation : Bac +5 / MasterPostulerSauvegarderil y a 2 moisPartagerCopier le lienPartager sur FacebookPartager sur TwitterPartager sur LinkedinQuickSignCette offre vous tente ?PostulerSauvegarderQuestions et réponses sur l'offreL'envoi d'un CV est-il obligatoire pour postuler à cette offre ?Pour postuler à cette offre, l'envoi de votre CV est obligatoire.Le télétravail est-il possible pour ce poste ?Le télétravail occasionnel est autorisé pour ce poste.Quel est le type de contrat pour ce poste ?Le contrat pour ce poste est de type Stage.Une lettre de motivation est-elle obligatoire pour postuler à cette offre ?La lettre de motivation est optionnelle pour postuler à cette offre.Quelle est la date de début du contrat?Le contrat pour cette offre de job démarre le 1 septembre 2024Une expérience est-elle requise pour cette offre?Aucune expérience n'est nécessaire pour postuler à cette offre.Le posteDescriptif du postePour lire certains documents (cartes d’identité, passeports), nous implémentons des masques, a.k.a templates, permettant de localiser précisément les champs pertinents. Le but du stage est d’accroître le nombre de documents que nous pouvons lire en enrichissant notre base de templates.Missions du stage :Amélioration de l’outillage pour la création de templates et l’optimisation de performances :Prise en main de l’outil de création de templateAjout de fonctionnalités (preview de résultats, tests sur un dataset complet, rapports d’optimisation, … )Création de templates pour la reconnaissance de documents structurés :Utiliser un l’outil précédent pour créer des templates adaptés aux différents types de documents structurés (pièces d’identité, etc.).Collaborer avec l’équipe pour identifier les types de documents à traiter et les informations importantes à extraire.  Intégration des templates dans la librairie de lecture de docs:Utiliser le modèle générique d’OCR pour lire les documents correspondant aux nouveaux templates.Utiliser des techniques de prétraitement et de post-traitement pour améliorer la performance du modèle.Utiliser des algorithmes de recherche d’hyperparamètres, afin d’optimiser les taux de lecture. Travailler en étroite collaboration avec l’équipe pour s’assurer que les templates sont correctement intégrés et fonctionnels.  Évaluation et optimisation de la qualité de lecture des nouveaux documents :Créer et maintenir des ensembles de données de validation et de test pour évaluer la performance du modèle.Utilisation de l’outil interne d’annotationMesurer la qualité de lecture des documents et identifier les domaines à améliorer.Proposer et mettre en œuvre des améliorations pour optimiser la performance du modèle et du service web.  Intégration des templates dans le service web :Intégrer les templates et le modèle amélioré dans le service web existant.S’assurer de la compatibilité et de l’interopérabilité des différents composants du système.Ré-entraînement de reconnaisseur de texte pour les documents portugais :Créer une tâche d’annotation pour récupérer les accents sur les documents portugais (carte d’identité, passeport)Ré-entraîner un décodeur spécial pour le portugaisMettre à jour les bases de NRT pour inclure les accents si non présentsIntégrer dans le service et mesurer les nouvelles perfsCollaboration et communication avec l’équipe :Participer aux réunions d’équipe et aux discussions techniquesRédiger des rapports et des documents techniques pour documenter les progrès et les résultats du projetProfil recherchéÉtudiant(e) à partir de M2 ou césure en école ou université en informatique / mathématiquesVous êtes à la recherche d’un stage de 5-6 mois.Compétences requises :Utilisation de Python et GitCapacité à travailler en équipe et à communiquer efficacementUn environnement Linux vous est familierCompétences bonus :Connaissance des techniques de traitement d’image, d’OCR et d’annotationDes compétences en JavaScript et Docker seraient appréciéesMERCI DE BIEN NOTER sur votre candidature :la date à laquelle vous pouvez démarrer votre stagela durée de votre disponibilité\\=> sans ces informations nous ne pourrons pas traiter votre candidaturePourquoi nous rejoindre ?Parce que nous sommes une start-up de la Fintech, en fort développement, passionnée par l’innovation !Ce que tu trouveras chez nous :●      Un rôle stratégique qui a un véritable impact sur la croissance de QuickSign,●      Un environnement de travail technophile et stimulant, une quête de l’excellence,●      Un partage de connaissances et de l’entraide en permanence entre équipes.Informations complémentairesNous offrons un environnement de travail épanouissant avec :·       Des bureaux tout neufs au centre de Paris·       Possibilité de faire du télétravail·       Une carte ticket restaurant (Swile)·       Une prise en charge des frais de transport (50%) ou d’un forfait mobilitéDéroulement des entretiensLe process débutera par un rapide échange et l’envoi d’un test (QCM) à réaliser de chez soi.Si le test est positif, un entretien avec le manager et un membre de l’équipe est organisé.Si cet entretien est concluant un dernier échange avec la DRH est programmé.Envie d’en savoir plus ?Rencontrez Baptiste, Data EngineerRencontrez Eric, Lead Dev KYCDécouvrez l'entrepriseExplorez la vitrine de l’entreprise ou suivez-la pour savoir si elle vous correspond vraiment !Explorer l’entrepriseIls sont sociablesL'entrepriseQuickSignFinTech / InsurTech, SaaS / Cloud Services110 collaborateursCréée en 2010Âge moyen : 33 ans30%70%Voir le siteVoir toutes les offres6Qui sont-ils ?L’équipe Document Recognition (DocReco)L’équipe a pour responsabilité de créer des modèles pour classifier et lire les documents reçus par QuickSign, puis de déployer ces modèles en production et de les maintenir en condition opérationnelle. Notre équipe est aujourd’hui composée d’un Data Scientist, un ML Engineer, un Data Engineer et un Tech Lead.Nous avons de nombreux modèles en prod, à l’état de l’art (vision artificielle / NLP), et avons fourni un premier effort d’industrialisation de l’entraînement de nos IA permettant de sortir de nouveaux modèles en moins de 3 mois. Nous engageons un nouvel effort d’industrialisation de la production de nos modèles et considérons la gestion de nouveaux types de données en entrée (vidéo en plus des images et du texte). Parmi les dimensions importantes pour l’équipe, on peut citer le fait de rendre nos processus de déploiement plus robustes, concevoir des approches de MLOps permettant de garantir la reproductibilité de nos expériences et plus largement industrialiser nos solutions, ainsi qu’outiller et transformer les métiers de QuickSign pour objectiver et guider leur activité quotidienne.Les avantages salariésIntéressement & participationRTTPlan de mobilité durableTickets restaurantJusqu'à 3-4 jours de télétravailVoir tous les avantages17Comprendre l’Index de l’égalité professionnelleCet index révèle les disparités salariales entre femmes et hommes.100sur 100 pointsÉcart rémunération : 40/40Écart taux d’augmentation : 35/35Augmentation après congé maternité : 15/15Parité hautes rémunérations : 10/10Données issues de la déclaration obligatoire pour les entreprises de plus de 50 salariés.En savoir plusLe lieu de travail19 Rue Poissonnière, 75002 Paris, FranceCulture d’entrepriseVous souhaitez en savoir plus sur l’entreprise et son histoire ? C’est par ici !DécouvrirD’autres offres vous correspondent !Ces entreprises recrutent aussi au poste de “Données/Business Intelligence”.Société GénéraleData-Analyst AuditLa DéfenseStagehierPrettoOperations & Data analyst - stage H/FParisStageil y a 3 joursAXAStage Développeur Excel VBA - PowerBI DAX H/FNanterreStageTélétravail fréquentil y a 5 joursPayFitData Analyst - stageParisStageTélétravail fréquentil y a 8 joursOrnikarData Analyst - StageParisStageTélétravail fréquentil y a 28 joursAllianz FranceStage - Data Analyst (H/F)PuteauxStageTélétravail fréquentle mois dernierVoir toutes les offresPostulerSauvegarderA proposConceptQui sommes-nous ?Offres d'emploiOffres de stageCentre d'aideNous rencontrerHuman After AllPresseJobsTarifsBesoin d’aide ?Assistance entrepriseLa newsletter qui fait le tafUne fois par semaine, des histoires, des jobs et des conseils dans votre boite mail.Je m'abonneVous pouvez vous désabonner à tout moment. On n'est pas susceptibles, promis. Pour en savoir plus sur notre politique de protection des données, cliquez-ici.EmployeursMon espace employeurMentions légalesCGUPolitique de confidentialitéCharte Welcome to the JunglePolitique cookiesGestion des cookies\n",
      "\n",
      "\n",
      "\n",
      "France (FR)United States (US)\n",
      "\n",
      "\n",
      "\n",
      "France (FR)\n",
      "\n",
      "\n",
      "\n",
      "\n",
      "\n",
      "España (ES)\n",
      "\n",
      "\n",
      "\n",
      "Czechia (CZ)\n",
      "\n",
      "\n",
      "\n",
      "\n",
      "\n",
      "\n",
      "\n",
      "\n",
      "Slovakia (SVK)\n",
      "\n",
      "\n",
      "\n",
      "\n",
      "\n",
      "\n",
      "\n",
      "\n",
      "\n",
      "\n",
      "\n",
      "\n",
      "\n",
      "\n",
      "\n",
      "\n",
      "\n",
      "\n",
      "\n",
      "\n",
      "\n",
      "\n",
      "\n",
      "\n",
      "\n",
      "\n",
      "\n",
      "\n",
      "\n",
      "\n",
      "\n",
      "\n",
      "\n",
      "\n",
      "\n",
      "\n",
      "\n",
      "\n",
      "\n",
      "\n",
      "\n",
      "\n"
     ]
    }
   ],
   "source": [
    "from langchain_community.document_loaders import WebBaseLoader\n",
    "\n",
    "loader = WebBaseLoader(\"https://www.welcometothejungle.com/fr/companies/quicksign/jobs/stage-en-data-science-f-h_paris?q=7367ad96b6fc11fd116aa0f388f9e8ca&o=2b3b8224-eac0-43d7-b21f-db9f8d49b09f\")\n",
    "page_data = loader.load().pop().page_content\n",
    "print(page_data)"
   ]
  },
  {
   "cell_type": "code",
   "execution_count": 33,
   "id": "3cced99c",
   "metadata": {},
   "outputs": [],
   "source": [
    "mentions=\"my name is Firas Ayari and i am in my final year of engineering cycle and i am an AI  and data science enthusiast and i worked in different projects in this field like mentionned in my CV\""
   ]
  },
  {
   "cell_type": "code",
   "execution_count": 34,
   "id": "4a81f6c4",
   "metadata": {},
   "outputs": [
    {
     "name": "stdout",
     "output_type": "stream",
     "text": [
      "Here's a motivation letter based on the provided text:\n",
      "\n",
      "\"Dear Hiring Manager,\n",
      "\n",
      "I am writing to express my strong interest in the Data Science Internship position at QuickSign. As a final-year engineering student and an AI and data science enthusiast, I am confident that this internship will provide me with the ideal opportunity to apply my skills and knowledge in a real-world setting.\n",
      "\n",
      "With a solid foundation in Python and Git, I am well-equipped to contribute to the development of your document recognition system. My experience in working on various projects in AI and data science, as highlighted in my CV, has not only deepened my understanding of these fields but also instilled in me a passion for innovation and problem-solving.\n",
      "\n",
      "I am particularly drawn to QuickSign's commitment to innovation and its focus on developing cutting-edge solutions in the Fintech industry. I am impressed by the company's efforts to create a stimulating work environment that fosters collaboration, knowledge-sharing, and excellence.\n",
      "\n",
      "As a detail-oriented and results-driven individual, I am excited about the prospect of working on the development of templates for document recognition, optimizing the performance of the OCR model, and collaborating with the team to integrate the templates into the service web. I am confident that my strong work ethic, combined with my technical skills and enthusiasm for AI and data science, make me an ideal candidate for this internship.\n",
      "\n",
      "I am available to start on September 1st, 2024, and I am committed to dedicating 5-6 months to this internship. I have attached my CV, which provides more details about my experience and skills.\n",
      "\n",
      "Thank you for considering my application. I look forward to the opportunity to discuss my qualifications further.\n",
      "\n",
      "Sincerely,\n",
      "Firas Ayari\"\n"
     ]
    }
   ],
   "source": [
    "from langchain_core.prompts import PromptTemplate\n",
    "\n",
    "prompt_extract = PromptTemplate.from_template(\n",
    "        \"\"\"\n",
    "        ### SCRAPED TEXT FROM WEBSITE:\n",
    "        {page_data}\n",
    "        ### INSTRUCTION:\n",
    "        return a motivation letter according to this text and mention that {mentions}\n",
    "        \n",
    "        ### VALID JSON (NO PREAMBLE):    \n",
    "        \"\"\"\n",
    ")\n",
    "\n",
    "chain_extract = prompt_extract | llm \n",
    "res = chain_extract.invoke(input={'page_data':page_data,'mentions':mentions})\n",
    "print(res.content)"
   ]
  },
  {
   "cell_type": "code",
   "execution_count": null,
   "id": "3bf5454e",
   "metadata": {},
   "outputs": [],
   "source": []
  }
 ],
 "metadata": {
  "kernelspec": {
   "display_name": "Python 3 (ipykernel)",
   "language": "python",
   "name": "python3"
  },
  "language_info": {
   "codemirror_mode": {
    "name": "ipython",
    "version": 3
   },
   "file_extension": ".py",
   "mimetype": "text/x-python",
   "name": "python",
   "nbconvert_exporter": "python",
   "pygments_lexer": "ipython3",
   "version": "3.9.18"
  }
 },
 "nbformat": 4,
 "nbformat_minor": 5
}
